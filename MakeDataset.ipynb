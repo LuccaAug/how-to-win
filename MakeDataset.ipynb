{
 "nbformat": 4,
 "nbformat_minor": 0,
 "metadata": {
  "colab": {
   "provenance": []
  },
  "kernelspec": {
   "name": "python3",
   "display_name": "Python 3 (ipykernel)",
   "language": "python"
  },
  "language_info": {
   "name": "python"
  }
 },
 "cells": [
  {
   "cell_type": "code",
   "source": [
    "CSV_file = 'data/combined_data_laliga.csv'\n",
    "DB_file = 'data/Transactions_LaLiga.txt'"
   ],
   "metadata": {
    "id": "xkEEjT2syv3v",
    "ExecuteTime": {
     "end_time": "2024-07-27T15:08:01.011708Z",
     "start_time": "2024-07-27T15:08:01.009013Z"
    }
   },
   "outputs": [],
   "execution_count": 19
  },
  {
   "cell_type": "code",
   "source": [
    "d = dict()\n",
    "\n",
    "with open(CSV_file, 'r') as f:\n",
    "    for index, line in enumerate(f.readlines()):\n",
    "        line = line.strip('\\n')\n",
    "        values = line.split(\",\")\n",
    "    \n",
    "        if index == 0:\n",
    "            values[0] = 'id'\n",
    "            legend = values\n",
    "            continue\n",
    "    \n",
    "        d[values[0]] = {}\n",
    "        for i in range(1,len(values)):\n",
    "            d[values[0]][legend[i]] = values[i]"
   ],
   "metadata": {
    "id": "dBRU0Pd50lrK",
    "ExecuteTime": {
     "end_time": "2024-07-27T15:08:01.056505Z",
     "start_time": "2024-07-27T15:08:01.012969Z"
    }
   },
   "outputs": [],
   "execution_count": 20
  },
  {
   "cell_type": "code",
   "source": [
    "def define_winner(match, winnerTeam, loserTeam):\n",
    "    match_copy = match.copy()\n",
    "\n",
    "    for match_key in match_copy:\n",
    "        del match[match_key]\n",
    "\n",
    "        if match_key.startswith(winnerTeam):\n",
    "            new_key = match_key.replace(winnerTeam, \"Winner\")\n",
    "            match[new_key] = match_copy[match_key]\n",
    "\n",
    "        elif match_key.startswith(loserTeam):\n",
    "            new_key = match_key.replace(loserTeam, \"Loser\")\n",
    "            match[new_key] = match_copy[match_key]\n",
    "\n",
    "    return line"
   ],
   "metadata": {
    "id": "cCch0nNyN66b",
    "ExecuteTime": {
     "end_time": "2024-07-27T15:08:01.061380Z",
     "start_time": "2024-07-27T15:08:01.058050Z"
    }
   },
   "outputs": [],
   "execution_count": 21
  },
  {
   "cell_type": "code",
   "source": [
    "keys = list(d.keys())\n",
    "\n",
    "for key in keys:\n",
    "    game = d[key]\n",
    "    score = game['Score'].split('-')\n",
    "    score_home, score_away = int(score[0]), int(score[1])\n",
    "\n",
    "    if score_home > score_away:\n",
    "        define_winner(game, 'Home', 'Away')\n",
    "\n",
    "    elif score_home < score_away:\n",
    "        define_winner(game, 'Away', 'Home')\n",
    "\n",
    "    else:\n",
    "        del d[key]"
   ],
   "metadata": {
    "id": "1JamtdZg4aeH",
    "ExecuteTime": {
     "end_time": "2024-07-27T15:08:01.109566Z",
     "start_time": "2024-07-27T15:08:01.062444Z"
    }
   },
   "outputs": [],
   "execution_count": 22
  },
  {
   "cell_type": "code",
   "source": [
    "lines = list()\n",
    "\n",
    "# Create the transactions, in the python string format\n",
    "for key in d:\n",
    "    line = str()\n",
    "    game = d[key]\n",
    "\n",
    "    if float(game[\"Winner Team Possession %\"]) > 50:\n",
    "        line += \"Possession \"\n",
    "\n",
    "    if float(game[\"Winner Team Pass Success %\"]) >= 85:\n",
    "        line += \"HighAccuracyPass \"\n",
    "\n",
    "    if float(game[\"Winner Team Off Target Shots\"]) < float(game[\"Loser Team Off Target Shots\"]):\n",
    "        line += \"LessOffTargetShots \"\n",
    "\n",
    "    if float(game[\"Winner Team On Target Shots\"]) > float(game[\"Loser Team On Target Shots\"]):\n",
    "        line += \"MoreOnTargetShots \"\n",
    "\n",
    "    if float(game[\"Winner Team Total Shots\"]) > float(game[\"Loser Team Total Shots\"]):\n",
    "        line += \"MoreShots \"\n",
    "\n",
    "    if float(game[\"Winner Team Aerials Won\"]) > float(game[\"Loser Team Aerials Won\"]):\n",
    "        line += \"MoreAerials \"\n",
    "\n",
    "    if (float(game[\"Loser Team Fouls\"])-float(game[\"Winner Team Fouls\"])) >= 3:\n",
    "        line += \"LessFouls \"\n",
    "\n",
    "    WinnerCards = float(game[\"Winner Team Yellow Cards\"]) + float(game[\"Winner Team Red Cards\"])\n",
    "    LoserCards = float(game[\"Loser Team Yellow Cards\"]) + float(game[\"Loser Team Red Cards\"])\n",
    "    if (LoserCards - WinnerCards) >= 2:\n",
    "        line += \"LessCards \"\n",
    "\n",
    "    if float(game[\"Winner Team Red Cards\"]) < float(game[\"Loser Team Red Cards\"]):\n",
    "        line += \"MorePlayers \"\n",
    "\n",
    "    # Removes the last space (' ') from the string\n",
    "    line = line[:-1]\n",
    "\n",
    "    if len(line) > 3:\n",
    "        lines.append(line)"
   ],
   "metadata": {
    "id": "lQr9fJRf6GYq",
    "ExecuteTime": {
     "end_time": "2024-07-27T15:08:01.124989Z",
     "start_time": "2024-07-27T15:08:01.110910Z"
    }
   },
   "outputs": [],
   "execution_count": 23
  },
  {
   "cell_type": "code",
   "source": [
    "# Write the transaction file\n",
    "with open(DB_file, 'w') as f:\n",
    "    for line in lines:\n",
    "        line += '\\n'\n",
    "        f.writelines(line)"
   ],
   "metadata": {
    "id": "qUJMf1SrEPSU",
    "ExecuteTime": {
     "end_time": "2024-07-27T15:08:23.003629Z",
     "start_time": "2024-07-27T15:08:22.995447Z"
    }
   },
   "outputs": [],
   "execution_count": 25
  }
 ]
}
